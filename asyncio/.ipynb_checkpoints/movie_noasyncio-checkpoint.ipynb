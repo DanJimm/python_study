{
 "cells": [
  {
   "cell_type": "code",
   "execution_count": 25,
   "metadata": {},
   "outputs": [
    {
     "name": "stdout",
     "output_type": "stream",
     "text": [
      "movie: 缉魂 01月15日 https://img3.doubanio.com/view/photo/s_ratio_poster/public/p2629413230.jpg\n",
      "movie: 扫黑·决战 01月15日 https://img9.doubanio.com/view/photo/s_ratio_poster/public/p2628496235.jpg\n",
      "movie: 天后小助理 01月15日 https://img2.doubanio.com/view/photo/s_ratio_poster/public/p2628309253.jpg\n",
      "movie: 日不落酒店 01月16日 https://img1.doubanio.com/view/photo/s_ratio_poster/public/p2628613028.jpg\n",
      "movie: 小伟 01月22日 https://img1.doubanio.com/view/photo/s_ratio_poster/public/p2624144807.jpg\n",
      "movie: 指挥家 01月22日 https://img3.doubanio.com/view/photo/s_ratio_poster/public/p2630029701.jpg\n",
      "movie: 武汉日夜 01月22日 https://img1.doubanio.com/view/photo/s_ratio_poster/public/p2629437368.jpg\n",
      "movie: 魔法鼠乐园 01月23日 https://img9.doubanio.com/view/photo/s_ratio_poster/public/p2627401805.jpg\n",
      "movie: 蜂鸟计划 01月29日 https://img9.doubanio.com/view/photo/s_ratio_poster/public/p2630378196.jpg\n",
      "movie: 温泉屋的小老板娘 01月29日 https://img9.doubanio.com/view/photo/s_ratio_poster/public/p2629337084.jpg\n",
      "movie: 如梦晋阳 01月14日 https://img1.doubanio.com/view/photo/s_ratio_poster/public/p2584480499.jpg\n",
      "movie: 许愿神龙 01月15日 https://img1.doubanio.com/view/photo/s_ratio_poster/public/p2626260539.jpg\n",
      "movie: 叱咤风云 01月15日 https://img9.doubanio.com/view/photo/s_ratio_poster/public/p2629944675.jpg\n",
      "movie: 京北的我们 01月15日 https://img2.doubanio.com/view/photo/s_ratio_poster/public/p2627577382.jpg\n",
      "movie: 山路十八湾 01月18日 https://img1.doubanio.com/view/photo/s_ratio_poster/public/p2629347839.jpg\n",
      "movie: 幸运电梯 01月22日 https://img3.doubanio.com/view/photo/s_ratio_poster/public/p2630036420.jpg\n",
      "movie: 与我跳舞 01月22日 https://img9.doubanio.com/view/photo/s_ratio_poster/public/p2629952366.jpg\n",
      "movie: 移情高手 01月22日 https://img1.doubanio.com/view/photo/s_ratio_poster/public/p2628852099.jpg\n",
      "movie: 吉祥如意 01月29日 https://img9.doubanio.com/view/photo/s_ratio_poster/public/p2630334695.jpg\n",
      "movie: 大红包 01月29日 https://img9.doubanio.com/view/photo/s_ratio_poster/public/p2627865084.jpg\n",
      "Wall time: 13.5 s\n"
     ]
    }
   ],
   "source": [
    "import requests\n",
    "from bs4 import BeautifulSoup\n",
    "import lxml\n",
    "\n",
    "url_1 = \"https://movie.douban.com/cinema/later/chengdu/\"\n",
    "url_2 = \"https://www.baidu.com\"\n",
    "url_3 = 'https://maoyan.com/films?showType=1'\n",
    "\n",
    "url = url_1\n",
    "headers = {\"User-Agent\":\"Mozilla/5.0 (Windows NT 10.0; Win64; x64) AppleWebKit/537.36 (KHTML, like Gecko) Chrome/84.0.4147.68 Safari/537.36\"}\n",
    "cookies = {\"Cookie\":\"bid=_ndNsuUzFh8; __utmz=30149280.1610455551.1.1.utmcsr=(direct)|utmccn=(direct)|utmcmd=(none); __utmz=223695111.1610455551.1.1.utmcsr=(direct)|utmccn=(direct)|utmcmd=(none); _pk_id.100001.4cf6=1375f854cf309207.1610455551.2.1610504987.1610456427.; _pk_ses.100001.4cf6=*; ap_v=0,6.0; __utma=30149280.171569218.1610455551.1610455551.1610504989.2; __utmb=30149280.0.10.1610504989; __utmc=30149280; __utma=223695111.1497171783.1610455551.1610455551.1610504989.2; __utmb=223695111.0.10.1610504989; __utmc=223695111\"}\n",
    "\n",
    "def no_asyncio_main():\n",
    "\n",
    "    page_content  = requests.get(url, headers=headers, cookies=cookies).content\n",
    "    page_soup = BeautifulSoup(page_content, 'lxml')\n",
    "\n",
    "    all_movies = page_soup.find('div', id = 'showing-soon')\n",
    "\n",
    "#     url_img = []\n",
    "    class_names = ['item mod odd', 'item mod']\n",
    "    for class_name in class_names:\n",
    "        for movie in all_movies.find_all('div', class_ = class_name ):\n",
    "            \n",
    "            movie_name = movie.find_all('a')[1].string\n",
    "            movie_img_url = movie.find_all('a')[1].get('href')\n",
    "            movie_date = movie.find_all('li', class_ = 'dt')[0].string\n",
    "            \n",
    "            img = requests.get(movie_img_url, headers=headers).content\n",
    "            img_content = BeautifulSoup(img, 'lxml')\n",
    "            iterm = img_content.find('div', id = 'mainpic')\n",
    "            movie_img = iterm.find_all('img')[0].get('src')\n",
    "            \n",
    "    \n",
    "            print('movie: {} {} {}'.format(movie_name, movie_date, movie_img))\n",
    "\n",
    "\n",
    "%time no_asyncio_main()\n"
   ]
  }
 ],
 "metadata": {
  "kernelspec": {
   "display_name": "Python 3",
   "language": "python",
   "name": "python3"
  },
  "language_info": {
   "codemirror_mode": {
    "name": "ipython",
    "version": 3
   },
   "file_extension": ".py",
   "mimetype": "text/x-python",
   "name": "python",
   "nbconvert_exporter": "python",
   "pygments_lexer": "ipython3",
   "version": "3.7.3"
  }
 },
 "nbformat": 4,
 "nbformat_minor": 1
}
