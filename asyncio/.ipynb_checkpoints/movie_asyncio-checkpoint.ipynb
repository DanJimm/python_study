{
 "cells": [
  {
   "cell_type": "code",
   "execution_count": 1,
   "metadata": {},
   "outputs": [
    {
     "ename": "RuntimeError",
     "evalue": "asyncio.run() cannot be called from a running event loop",
     "output_type": "error",
     "traceback": [
      "\u001b[1;31m---------------------------------------------------------------------------\u001b[0m",
      "\u001b[1;31mRuntimeError\u001b[0m                              Traceback (most recent call last)",
      "\u001b[1;32m<timed eval>\u001b[0m in \u001b[0;36m<module>\u001b[1;34m\u001b[0m\n",
      "\u001b[1;32mC:\\ProgramData\\Anaconda3\\lib\\asyncio\\runners.py\u001b[0m in \u001b[0;36mrun\u001b[1;34m(main, debug)\u001b[0m\n\u001b[0;32m     32\u001b[0m     \u001b[1;32mif\u001b[0m \u001b[0mevents\u001b[0m\u001b[1;33m.\u001b[0m\u001b[0m_get_running_loop\u001b[0m\u001b[1;33m(\u001b[0m\u001b[1;33m)\u001b[0m \u001b[1;32mis\u001b[0m \u001b[1;32mnot\u001b[0m \u001b[1;32mNone\u001b[0m\u001b[1;33m:\u001b[0m\u001b[1;33m\u001b[0m\u001b[1;33m\u001b[0m\u001b[0m\n\u001b[0;32m     33\u001b[0m         raise RuntimeError(\n\u001b[1;32m---> 34\u001b[1;33m             \"asyncio.run() cannot be called from a running event loop\")\n\u001b[0m\u001b[0;32m     35\u001b[0m \u001b[1;33m\u001b[0m\u001b[0m\n\u001b[0;32m     36\u001b[0m     \u001b[1;32mif\u001b[0m \u001b[1;32mnot\u001b[0m \u001b[0mcoroutines\u001b[0m\u001b[1;33m.\u001b[0m\u001b[0miscoroutine\u001b[0m\u001b[1;33m(\u001b[0m\u001b[0mmain\u001b[0m\u001b[1;33m)\u001b[0m\u001b[1;33m:\u001b[0m\u001b[1;33m\u001b[0m\u001b[1;33m\u001b[0m\u001b[0m\n",
      "\u001b[1;31mRuntimeError\u001b[0m: asyncio.run() cannot be called from a running event loop"
     ]
    }
   ],
   "source": [
    "import asyncio\n",
    "import requests\n",
    "import lxml\n",
    "from bs4 import BeautifulSoup\n",
    "import aiohttp\n",
    "\n",
    "url = \"https://movie.douban.com/cinema/later/chengdu/\"\n",
    "headers = {\"User-Agent\":\"Mozilla/5.0 (Windows NT 10.0; Win64; x64) AppleWebKit/537.36 (KHTML, like Gecko) Chrome/84.0.4147.68 Safari/537.36\"}\n",
    "\n",
    "async def fentch_content(url):\n",
    "    async with aiohttp.ClientSession(\n",
    "   headers=headers, connector=aiohttp.TCPConnector(ssl=False)\n",
    "    ) as session:\n",
    "        async with session.get(url) as response:\n",
    "            return response.content\n",
    "\n",
    "async def asyncio_main():\n",
    "    page_content = await fentch_content(url)\n",
    "    page_content = BeautifulSoup(page_content, 'lxml')\n",
    "\n",
    "    movie_names = []\n",
    "    movie_img_urls = []\n",
    "    movie_dates = []\n",
    "\n",
    "    all_movies = page_soup.find('div', id = 'showing-soon')\n",
    "    class_names = ['item mod odd', 'item mod']\n",
    "    for class_name in class_names:\n",
    "        for movie in all_movies.find_all('div', class_ = class_name ):\n",
    "\n",
    "            movie_names.append(movie.find_all('a')[1].string)\n",
    "            movie_img_urls.append(movie.find_all('a')[1].get('href'))\n",
    "            movie_dates.append(movie.find_all('li', class_ = 'dt')[0].string)\n",
    "\n",
    "    tasks = [fentch_content(url) for url in movie_img_urls]\n",
    "    img_pages = await asyncio.gather(*tasks)\n",
    "\n",
    "    for movie_name, movie_date, img_page in zip(movie_names, movie_dates, img_pages):\n",
    "        iterm = img_content.find('div', id = 'mainpic')\n",
    "        movie_img = iterm.find_all('img')[0].get('src')\n",
    "\n",
    "        print('movie: {} {} {}'.format(movie_name, movie_date, movie_img))\n",
    "\n",
    "\n",
    "%time asyncio.run(asyncio_main())\n",
    "\n",
    "\n",
    "\n",
    "\n"
   ]
  }
 ],
 "metadata": {
  "kernelspec": {
   "display_name": "Python 3",
   "language": "python",
   "name": "python3"
  },
  "language_info": {
   "codemirror_mode": {
    "name": "ipython",
    "version": 3
   },
   "file_extension": ".py",
   "mimetype": "text/x-python",
   "name": "python",
   "nbconvert_exporter": "python",
   "pygments_lexer": "ipython3",
   "version": "3.7.3"
  }
 },
 "nbformat": 4,
 "nbformat_minor": 1
}
